{
  "nbformat": 4,
  "nbformat_minor": 0,
  "metadata": {
    "colab": {
      "provenance": [],
      "authorship_tag": "ABX9TyNTr7nJ/a4TK9EALmdUQzIy",
      "include_colab_link": true
    },
    "kernelspec": {
      "name": "python3",
      "display_name": "Python 3"
    },
    "language_info": {
      "name": "python"
    }
  },
  "cells": [
    {
      "cell_type": "markdown",
      "metadata": {
        "id": "view-in-github",
        "colab_type": "text"
      },
      "source": [
        "<a href=\"https://colab.research.google.com/github/Krakalus/RAG-Work/blob/main/CRM_RAG.ipynb\" target=\"_parent\"><img src=\"https://colab.research.google.com/assets/colab-badge.svg\" alt=\"Open In Colab\"/></a>"
      ]
    },
    {
      "cell_type": "code",
      "source": [
        "import pandas as pd\n",
        "\n",
        "# Mock CRM data with 10 records\n",
        "data = {\n",
        "    \"name\": [\n",
        "        \"John Doe\",\n",
        "        \"Jane Smith\",\n",
        "        \"Bob Jones\",\n",
        "        \"Alice Brown\",\n",
        "        \"Charlie Davis\",\n",
        "        \"Emma Wilson\",\n",
        "        \"Michael Lee\",\n",
        "        \"Sarah Taylor\",\n",
        "        \"David Clark\",\n",
        "        \"Lisa Adams\"\n",
        "    ],\n",
        "    \"status\": [\n",
        "        \"VIP\",\n",
        "        \"Lead\",\n",
        "        \"Inactive\",\n",
        "        \"Prospect\",\n",
        "        \"VIP\",\n",
        "        \"Lead\",\n",
        "        \"Inactive\",\n",
        "        \"Prospect\",\n",
        "        \"VIP\",\n",
        "        \"Lead\"\n",
        "    ],\n",
        "    \"last_interaction\": [\n",
        "        \"10/01/2025\",\n",
        "        \"09/28/2025\",\n",
        "        \"08/15/2025\",\n",
        "        \"09/30/2025\",\n",
        "        \"10/02/2025\",\n",
        "        \"09/25/2025\",\n",
        "        \"07/20/2025\",\n",
        "        \"09/29/2025\",\n",
        "        \"10/01/2025\",\n",
        "        \"09/27/2025\"\n",
        "    ]\n",
        "}\n",
        "\n",
        "# Create DataFrame and save to CSV\n",
        "df = pd.DataFrame(data)\n",
        "df.to_csv(\"crm_customers.csv\", index=False)\n",
        "\n",
        "# Display the DataFrame to verify\n",
        "print(df)"
      ],
      "metadata": {
        "colab": {
          "base_uri": "https://localhost:8080/"
        },
        "id": "VweaX6Jew_gC",
        "outputId": "df35d5bc-e37e-4436-eeeb-ef2650e102db"
      },
      "execution_count": null,
      "outputs": [
        {
          "output_type": "stream",
          "name": "stdout",
          "text": [
            "            name    status last_interaction\n",
            "0       John Doe       VIP       10/01/2025\n",
            "1     Jane Smith      Lead       09/28/2025\n",
            "2      Bob Jones  Inactive       08/15/2025\n",
            "3    Alice Brown  Prospect       09/30/2025\n",
            "4  Charlie Davis       VIP       10/02/2025\n",
            "5    Emma Wilson      Lead       09/25/2025\n",
            "6    Michael Lee  Inactive       07/20/2025\n",
            "7   Sarah Taylor  Prospect       09/29/2025\n",
            "8    David Clark       VIP       10/01/2025\n",
            "9     Lisa Adams      Lead       09/27/2025\n"
          ]
        }
      ]
    },
    {
      "cell_type": "code",
      "source": [
        "# Install required dependencies\n",
        "!pip install -U langchain-community faiss-cpu"
      ],
      "metadata": {
        "colab": {
          "base_uri": "https://localhost:8080/"
        },
        "id": "IeN1GjI9yoSx",
        "outputId": "d8a5d5fb-caa5-4fe9-b94f-7f3a15e1f4ed"
      },
      "execution_count": null,
      "outputs": [
        {
          "output_type": "stream",
          "name": "stdout",
          "text": [
            "Requirement already satisfied: langchain-community in /usr/local/lib/python3.12/dist-packages (0.3.30)\n",
            "Requirement already satisfied: faiss-cpu in /usr/local/lib/python3.12/dist-packages (1.12.0)\n",
            "Requirement already satisfied: langchain-core<2.0.0,>=0.3.75 in /usr/local/lib/python3.12/dist-packages (from langchain-community) (0.3.76)\n",
            "Requirement already satisfied: langchain<2.0.0,>=0.3.27 in /usr/local/lib/python3.12/dist-packages (from langchain-community) (0.3.27)\n",
            "Requirement already satisfied: SQLAlchemy<3.0.0,>=1.4.0 in /usr/local/lib/python3.12/dist-packages (from langchain-community) (2.0.43)\n",
            "Requirement already satisfied: requests<3.0.0,>=2.32.5 in /usr/local/lib/python3.12/dist-packages (from langchain-community) (2.32.5)\n",
            "Requirement already satisfied: PyYAML<7.0.0,>=5.3.0 in /usr/local/lib/python3.12/dist-packages (from langchain-community) (6.0.2)\n",
            "Requirement already satisfied: aiohttp<4.0.0,>=3.8.3 in /usr/local/lib/python3.12/dist-packages (from langchain-community) (3.12.15)\n",
            "Requirement already satisfied: tenacity!=8.4.0,<10.0.0,>=8.1.0 in /usr/local/lib/python3.12/dist-packages (from langchain-community) (8.5.0)\n",
            "Requirement already satisfied: dataclasses-json<0.7.0,>=0.6.7 in /usr/local/lib/python3.12/dist-packages (from langchain-community) (0.6.7)\n",
            "Requirement already satisfied: pydantic-settings<3.0.0,>=2.10.1 in /usr/local/lib/python3.12/dist-packages (from langchain-community) (2.10.1)\n",
            "Requirement already satisfied: langsmith<1.0.0,>=0.1.125 in /usr/local/lib/python3.12/dist-packages (from langchain-community) (0.4.28)\n",
            "Requirement already satisfied: httpx-sse<1.0.0,>=0.4.0 in /usr/local/lib/python3.12/dist-packages (from langchain-community) (0.4.1)\n",
            "Requirement already satisfied: numpy>=1.26.2 in /usr/local/lib/python3.12/dist-packages (from langchain-community) (2.0.2)\n",
            "Requirement already satisfied: packaging in /usr/local/lib/python3.12/dist-packages (from faiss-cpu) (25.0)\n",
            "Requirement already satisfied: aiohappyeyeballs>=2.5.0 in /usr/local/lib/python3.12/dist-packages (from aiohttp<4.0.0,>=3.8.3->langchain-community) (2.6.1)\n",
            "Requirement already satisfied: aiosignal>=1.4.0 in /usr/local/lib/python3.12/dist-packages (from aiohttp<4.0.0,>=3.8.3->langchain-community) (1.4.0)\n",
            "Requirement already satisfied: attrs>=17.3.0 in /usr/local/lib/python3.12/dist-packages (from aiohttp<4.0.0,>=3.8.3->langchain-community) (25.3.0)\n",
            "Requirement already satisfied: frozenlist>=1.1.1 in /usr/local/lib/python3.12/dist-packages (from aiohttp<4.0.0,>=3.8.3->langchain-community) (1.7.0)\n",
            "Requirement already satisfied: multidict<7.0,>=4.5 in /usr/local/lib/python3.12/dist-packages (from aiohttp<4.0.0,>=3.8.3->langchain-community) (6.6.4)\n",
            "Requirement already satisfied: propcache>=0.2.0 in /usr/local/lib/python3.12/dist-packages (from aiohttp<4.0.0,>=3.8.3->langchain-community) (0.3.2)\n",
            "Requirement already satisfied: yarl<2.0,>=1.17.0 in /usr/local/lib/python3.12/dist-packages (from aiohttp<4.0.0,>=3.8.3->langchain-community) (1.20.1)\n",
            "Requirement already satisfied: marshmallow<4.0.0,>=3.18.0 in /usr/local/lib/python3.12/dist-packages (from dataclasses-json<0.7.0,>=0.6.7->langchain-community) (3.26.1)\n",
            "Requirement already satisfied: typing-inspect<1,>=0.4.0 in /usr/local/lib/python3.12/dist-packages (from dataclasses-json<0.7.0,>=0.6.7->langchain-community) (0.9.0)\n",
            "Requirement already satisfied: langchain-text-splitters<1.0.0,>=0.3.9 in /usr/local/lib/python3.12/dist-packages (from langchain<2.0.0,>=0.3.27->langchain-community) (0.3.11)\n",
            "Requirement already satisfied: pydantic<3.0.0,>=2.7.4 in /usr/local/lib/python3.12/dist-packages (from langchain<2.0.0,>=0.3.27->langchain-community) (2.11.9)\n",
            "Requirement already satisfied: jsonpatch<2.0,>=1.33 in /usr/local/lib/python3.12/dist-packages (from langchain-core<2.0.0,>=0.3.75->langchain-community) (1.33)\n",
            "Requirement already satisfied: typing-extensions>=4.7 in /usr/local/lib/python3.12/dist-packages (from langchain-core<2.0.0,>=0.3.75->langchain-community) (4.15.0)\n",
            "Requirement already satisfied: httpx<1,>=0.23.0 in /usr/local/lib/python3.12/dist-packages (from langsmith<1.0.0,>=0.1.125->langchain-community) (0.28.1)\n",
            "Requirement already satisfied: orjson>=3.9.14 in /usr/local/lib/python3.12/dist-packages (from langsmith<1.0.0,>=0.1.125->langchain-community) (3.11.3)\n",
            "Requirement already satisfied: requests-toolbelt>=1.0.0 in /usr/local/lib/python3.12/dist-packages (from langsmith<1.0.0,>=0.1.125->langchain-community) (1.0.0)\n",
            "Requirement already satisfied: zstandard>=0.23.0 in /usr/local/lib/python3.12/dist-packages (from langsmith<1.0.0,>=0.1.125->langchain-community) (0.25.0)\n",
            "Requirement already satisfied: python-dotenv>=0.21.0 in /usr/local/lib/python3.12/dist-packages (from pydantic-settings<3.0.0,>=2.10.1->langchain-community) (1.1.1)\n",
            "Requirement already satisfied: typing-inspection>=0.4.0 in /usr/local/lib/python3.12/dist-packages (from pydantic-settings<3.0.0,>=2.10.1->langchain-community) (0.4.1)\n",
            "Requirement already satisfied: charset_normalizer<4,>=2 in /usr/local/lib/python3.12/dist-packages (from requests<3.0.0,>=2.32.5->langchain-community) (3.4.3)\n",
            "Requirement already satisfied: idna<4,>=2.5 in /usr/local/lib/python3.12/dist-packages (from requests<3.0.0,>=2.32.5->langchain-community) (3.10)\n",
            "Requirement already satisfied: urllib3<3,>=1.21.1 in /usr/local/lib/python3.12/dist-packages (from requests<3.0.0,>=2.32.5->langchain-community) (2.5.0)\n",
            "Requirement already satisfied: certifi>=2017.4.17 in /usr/local/lib/python3.12/dist-packages (from requests<3.0.0,>=2.32.5->langchain-community) (2025.8.3)\n",
            "Requirement already satisfied: greenlet>=1 in /usr/local/lib/python3.12/dist-packages (from SQLAlchemy<3.0.0,>=1.4.0->langchain-community) (3.2.4)\n",
            "Requirement already satisfied: anyio in /usr/local/lib/python3.12/dist-packages (from httpx<1,>=0.23.0->langsmith<1.0.0,>=0.1.125->langchain-community) (4.10.0)\n",
            "Requirement already satisfied: httpcore==1.* in /usr/local/lib/python3.12/dist-packages (from httpx<1,>=0.23.0->langsmith<1.0.0,>=0.1.125->langchain-community) (1.0.9)\n",
            "Requirement already satisfied: h11>=0.16 in /usr/local/lib/python3.12/dist-packages (from httpcore==1.*->httpx<1,>=0.23.0->langsmith<1.0.0,>=0.1.125->langchain-community) (0.16.0)\n",
            "Requirement already satisfied: jsonpointer>=1.9 in /usr/local/lib/python3.12/dist-packages (from jsonpatch<2.0,>=1.33->langchain-core<2.0.0,>=0.3.75->langchain-community) (3.0.0)\n",
            "Requirement already satisfied: annotated-types>=0.6.0 in /usr/local/lib/python3.12/dist-packages (from pydantic<3.0.0,>=2.7.4->langchain<2.0.0,>=0.3.27->langchain-community) (0.7.0)\n",
            "Requirement already satisfied: pydantic-core==2.33.2 in /usr/local/lib/python3.12/dist-packages (from pydantic<3.0.0,>=2.7.4->langchain<2.0.0,>=0.3.27->langchain-community) (2.33.2)\n",
            "Requirement already satisfied: mypy-extensions>=0.3.0 in /usr/local/lib/python3.12/dist-packages (from typing-inspect<1,>=0.4.0->dataclasses-json<0.7.0,>=0.6.7->langchain-community) (1.1.0)\n",
            "Requirement already satisfied: sniffio>=1.1 in /usr/local/lib/python3.12/dist-packages (from anyio->httpx<1,>=0.23.0->langsmith<1.0.0,>=0.1.125->langchain-community) (1.3.1)\n"
          ]
        }
      ]
    },
    {
      "cell_type": "code",
      "source": [
        "import pandas as pd\n",
        "import numpy as np\n",
        "import base64\n",
        "from openai import OpenAI\n",
        "from langchain.vectorstores import FAISS\n",
        "from langchain.docstore.document import Document"
      ],
      "metadata": {
        "id": "Tfpg6RgzzpyY"
      },
      "execution_count": null,
      "outputs": []
    },
    {
      "cell_type": "code",
      "source": [
        "# Initialize NVIDIA API client\n",
        "import os\n",
        "client = OpenAI(\n",
        "    api_key=os.getenv(\"API_KEY\"),  # Replace with your NVIDIA API key\n",
        "    base_url=\"https://integrate.api.nvidia.com/v1\"\n",
        ")"
      ],
      "metadata": {
        "id": "NnwEt4kk0AzL"
      },
      "execution_count": null,
      "outputs": []
    },
    {
      "cell_type": "code",
      "source": [
        "# Step 1: Load your existing CRM data from the CSV (already created in Colab)\n",
        "df = pd.read_csv(\"crm_customers.csv\")"
      ],
      "metadata": {
        "id": "4dhsjdhT0JDT"
      },
      "execution_count": null,
      "outputs": []
    },
    {
      "cell_type": "code",
      "source": [
        "# Step 2: Generate embeddings for CRM data\n",
        "texts = df.apply(lambda x: f\"{x['name']}, {x['status']}, {x['last_interaction']}\", axis=1).tolist()\n",
        "response = client.embeddings.create(\n",
        "    input=texts,\n",
        "    model=\"nvidia/nv-embedqa-e5-v5\",\n",
        "    encoding_format=\"base64\",\n",
        "    extra_body={\"input_type\": \"query\", \"truncate\": \"END\"}\n",
        ")"
      ],
      "metadata": {
        "id": "Pq4lkS3W0Pbb"
      },
      "execution_count": null,
      "outputs": []
    },
    {
      "cell_type": "code",
      "source": [
        "# Decode base64 embeddings to float arrays\n",
        "embeddings = [np.frombuffer(base64.b64decode(emb.embedding)) for emb in response.data]"
      ],
      "metadata": {
        "id": "-MEAc_y20VSV"
      },
      "execution_count": null,
      "outputs": []
    },
    {
      "cell_type": "code",
      "source": [
        "# Step 3: Store embeddings in FAISS\n",
        "# Create Document objects with string page_content\n",
        "documents = [Document(page_content=text) for text in texts]\n",
        "\n",
        "# Define a dummy Embeddings class to use precomputed embeddings\n",
        "from langchain.embeddings.base import Embeddings\n",
        "class DummyEmbeddings(Embeddings):\n",
        "    def __init__(self, precomputed_embeddings):\n",
        "        self.precomputed_embeddings = precomputed_embeddings\n",
        "    def embed_documents(self, texts):\n",
        "        return self.precomputed_embeddings\n",
        "    def embed_query(self, text):\n",
        "        return self.precomputed_embeddings[0]  # Return first embedding for query (simplified)\n",
        "\n",
        "# Use FAISS with precomputed embeddings and dummy embedding object\n",
        "embedding_obj = DummyEmbeddings(embeddings)\n",
        "vector_store = FAISS.from_embeddings(\n",
        "    text_embeddings=[(doc.page_content, emb) for doc, emb in zip(documents, embeddings)],\n",
        "    embedding=embedding_obj\n",
        ")"
      ],
      "metadata": {
        "id": "Vi0W-aaR0dUd"
      },
      "execution_count": null,
      "outputs": []
    },
    {
      "cell_type": "code",
      "source": [
        "# Step 4: Test retrieval with a refined CRM query\n",
        "query = \"customers with VIP status\"\n",
        "query_response = client.embeddings.create(\n",
        "    input=[query],\n",
        "    model=\"nvidia/nv-embedqa-e5-v5\",\n",
        "    encoding_format=\"base64\",\n",
        "    extra_body={\"input_type\": \"query\", \"truncate\": \"END\"}\n",
        ")\n",
        "query_embedding = np.frombuffer(base64.b64decode(query_response.data[0].embedding))\n",
        "results = vector_store.similarity_search_by_vector(query_embedding, k=3)\n",
        "print(\"Query: customers with VIP status\")\n",
        "for doc in results:\n",
        "    print(f\"Result: {doc.page_content}\")\n",
        "    print(f\"Result: {doc.page_content}\")"
      ],
      "metadata": {
        "colab": {
          "base_uri": "https://localhost:8080/"
        },
        "id": "OtiCU2Oh1sUf",
        "outputId": "15aafea8-69d8-41d2-83a7-5d30fbb6ba71"
      },
      "execution_count": null,
      "outputs": [
        {
          "output_type": "stream",
          "name": "stdout",
          "text": [
            "Query: customers with VIP status\n",
            "Result: Jane Smith, Lead, 09/28/2025\n",
            "Result: Jane Smith, Lead, 09/28/2025\n",
            "Result: Emma Wilson, Lead, 09/25/2025\n",
            "Result: Emma Wilson, Lead, 09/25/2025\n",
            "Result: Bob Jones, Inactive, 08/15/2025\n",
            "Result: Bob Jones, Inactive, 08/15/2025\n"
          ]
        }
      ]
    },
    {
      "cell_type": "code",
      "source": [
        "# Manual RAG: Retrieve, format prompt, call LLM directly\n",
        "query = \"Suggest actions for VIP customers in Salesforce\"\n",
        "\n",
        "# Step 1: Retrieve relevant docs using .invoke\n",
        "retriever = vector_store.as_retriever()\n",
        "retrieved_docs = retriever.invoke(query)\n",
        "\n",
        "# Step 2: Filter for VIPs only\n",
        "vip_docs = [doc for doc in retrieved_docs if \"VIP\" in doc.page_content]\n",
        "\n",
        "# Step 3: Format context from VIP docs\n",
        "context = \"\\n\".join([doc.page_content for doc in vip_docs])\n",
        "prompt = f\"\"\"Based on this CRM data, suggest concise, unique Salesforce actions for each VIP customer:\n",
        "\n",
        "{context}\n",
        "\n",
        "Question: {query}\n",
        "\n",
        "Provide only the actions, no additional explanations or feature details.\"\"\"\n",
        "\n",
        "# Step 4: Call LLM directly\n",
        "response = client.chat.completions.create(\n",
        "    model=\"nvidia/llama-3.1-nemotron-nano-8b-v1\",\n",
        "    messages=[{\"role\": \"user\", \"content\": prompt}],\n",
        "    temperature=0.1,\n",
        "    max_tokens=300\n",
        ")\n",
        "\n",
        "result = response.choices[0].message.content\n",
        "print(\"RAG Response:\")\n",
        "print(result)"
      ],
      "metadata": {
        "colab": {
          "base_uri": "https://localhost:8080/"
        },
        "id": "3jHsl7LW9wXX",
        "outputId": "af0bbb42-e046-49c5-a603-dba6a2c30c41"
      },
      "execution_count": 23,
      "outputs": [
        {
          "output_type": "stream",
          "name": "stdout",
          "text": [
            "RAG Response:\n",
            "- Schedule a personalized onboarding session with a Salesforce representative to ensure optimal setup.\n",
            "- Request a dedicated account manager for enhanced support and service.\n",
            "- Arrange for a customized CRM implementation review to optimize their current setup.\n",
            "- Propose a VIP program launch to include exclusive features and priority support.\n",
            "- Offer a complimentary CRM training session tailored to their specific needs.\n"
          ]
        }
      ]
    }
  ]
}